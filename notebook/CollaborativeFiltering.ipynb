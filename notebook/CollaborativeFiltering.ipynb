{
 "cells": [
  {
   "cell_type": "code",
   "execution_count": 4,
   "id": "ba577384",
   "metadata": {},
   "outputs": [],
   "source": [
    "# Import Modules\n",
    "# pip install pandas\n",
    "import pandas as pd \n",
    "import numpy as np \n",
    "# pip install scikit-learn\n",
    "import sklearn\n",
    "from sklearn.metrics.pairwise import cosine_similarity"
   ]
  },
  {
   "cell_type": "code",
   "execution_count": 10,
   "id": "d1982d70",
   "metadata": {},
   "outputs": [
    {
     "name": "stdout",
     "output_type": "stream",
     "text": [
      "   User_ID    User_Names  Movie_ID  Rating  Timestamp\n",
      "0        0  Shawn Wilson        50       5  881250949\n",
      "1        0  Shawn Wilson       172       5  881250949\n",
      "2        0  Shawn Wilson       133       1  881250949\n",
      "3      196  Bessie White       242       3  881250949\n",
      "4      196  Bessie White       393       4  881251863\n"
     ]
    }
   ],
   "source": [
    "# Import the Dataset\n",
    "#Load the rating data into a DataFrame:\n",
    "column_names = ['User_ID', 'User_Names','Movie_ID','Rating','Timestamp']\n",
    "movies_df = pd.read_csv(\"https://raw.githubusercontent.com/naru94/Collaborative-Filtering-Recommendation-System/main/dataset/Movie_data.csv\", sep = ',', names = column_names)\n",
    "print(movies_df.head())"
   ]
  },
  {
   "cell_type": "code",
   "execution_count": 11,
   "id": "a8dfeae9",
   "metadata": {},
   "outputs": [
    {
     "name": "stdout",
     "output_type": "stream",
     "text": [
      "   Movie_ID        Movie_Title\n",
      "0         1   Toy Story (1995)\n",
      "1         2   GoldenEye (1995)\n",
      "2         3  Four Rooms (1995)\n",
      "3         4  Get Shorty (1995)\n",
      "4         5     Copycat (1995)\n"
     ]
    }
   ],
   "source": [
    "#Load the move information in a DataFrame:\n",
    "column_names = {'item_id':'Movie_ID', 'title':'Movie_Title'}\n",
    "movies_title_df = pd.read_csv(\"https://raw.githubusercontent.com/naru94/Collaborative-Filtering-Recommendation-System/main/dataset/Movie_Id_Titles.csv\")\n",
    "movies_title_df.rename(columns = {'item_id':'Movie_ID', 'title':'Movie_Title'}, inplace = True)\n",
    "print(movies_title_df.head())"
   ]
  },
  {
   "cell_type": "code",
   "execution_count": 12,
   "id": "99a5f0a9",
   "metadata": {},
   "outputs": [
    {
     "name": "stdout",
     "output_type": "stream",
     "text": [
      "   User_ID        User_Names  Movie_ID  Rating  Timestamp       Movie_Title\n",
      "0        0      Shawn Wilson        50       5  881250949  Star Wars (1977)\n",
      "1       22     Robert Poulin        50       5  878887765  Star Wars (1977)\n",
      "2      244      Laura Krulik        50       5  880604379  Star Wars (1977)\n",
      "3      298      Loren Aucoin        50       5  884125578  Star Wars (1977)\n",
      "4      115  Dominick Jenkins        50       5  881172049  Star Wars (1977)\n"
     ]
    }
   ],
   "source": [
    "#Merge the DataFrames:\n",
    "movies_df = pd.merge(movies_df,movies_title_df, on='Movie_ID')\n",
    "\n",
    "#View the DataFrame:\n",
    "print(movies_df.head())"
   ]
  },
  {
   "cell_type": "code",
   "execution_count": 13,
   "id": "9356c1d1",
   "metadata": {},
   "outputs": [
    {
     "name": "stdout",
     "output_type": "stream",
     "text": [
      "\n",
      " Size of the movie_df dataset is (100003, 6)\n"
     ]
    }
   ],
   "source": [
    "# Explore the dataset\n",
    "print(f\"\\n Size of the movie_df dataset is {movies_df.shape}\")"
   ]
  },
  {
   "cell_type": "code",
   "execution_count": 14,
   "id": "25458727",
   "metadata": {},
   "outputs": [
    {
     "data": {
      "text/html": [
       "<div>\n",
       "<style scoped>\n",
       "    .dataframe tbody tr th:only-of-type {\n",
       "        vertical-align: middle;\n",
       "    }\n",
       "\n",
       "    .dataframe tbody tr th {\n",
       "        vertical-align: top;\n",
       "    }\n",
       "\n",
       "    .dataframe thead th {\n",
       "        text-align: right;\n",
       "    }\n",
       "</style>\n",
       "<table border=\"1\" class=\"dataframe\">\n",
       "  <thead>\n",
       "    <tr style=\"text-align: right;\">\n",
       "      <th></th>\n",
       "      <th>User_ID</th>\n",
       "      <th>Movie_ID</th>\n",
       "      <th>Rating</th>\n",
       "      <th>Timestamp</th>\n",
       "    </tr>\n",
       "  </thead>\n",
       "  <tbody>\n",
       "    <tr>\n",
       "      <th>count</th>\n",
       "      <td>100003.000000</td>\n",
       "      <td>100003.000000</td>\n",
       "      <td>100003.000000</td>\n",
       "      <td>1.000030e+05</td>\n",
       "    </tr>\n",
       "    <tr>\n",
       "      <th>mean</th>\n",
       "      <td>462.470876</td>\n",
       "      <td>425.520914</td>\n",
       "      <td>3.529864</td>\n",
       "      <td>8.835288e+08</td>\n",
       "    </tr>\n",
       "    <tr>\n",
       "      <th>std</th>\n",
       "      <td>266.622454</td>\n",
       "      <td>330.797791</td>\n",
       "      <td>1.125704</td>\n",
       "      <td>5.343791e+06</td>\n",
       "    </tr>\n",
       "    <tr>\n",
       "      <th>min</th>\n",
       "      <td>0.000000</td>\n",
       "      <td>1.000000</td>\n",
       "      <td>1.000000</td>\n",
       "      <td>8.747247e+08</td>\n",
       "    </tr>\n",
       "    <tr>\n",
       "      <th>25%</th>\n",
       "      <td>254.000000</td>\n",
       "      <td>175.000000</td>\n",
       "      <td>3.000000</td>\n",
       "      <td>8.794487e+08</td>\n",
       "    </tr>\n",
       "    <tr>\n",
       "      <th>50%</th>\n",
       "      <td>447.000000</td>\n",
       "      <td>322.000000</td>\n",
       "      <td>4.000000</td>\n",
       "      <td>8.828269e+08</td>\n",
       "    </tr>\n",
       "    <tr>\n",
       "      <th>75%</th>\n",
       "      <td>682.000000</td>\n",
       "      <td>631.000000</td>\n",
       "      <td>4.000000</td>\n",
       "      <td>8.882600e+08</td>\n",
       "    </tr>\n",
       "    <tr>\n",
       "      <th>max</th>\n",
       "      <td>943.000000</td>\n",
       "      <td>1682.000000</td>\n",
       "      <td>5.000000</td>\n",
       "      <td>8.932866e+08</td>\n",
       "    </tr>\n",
       "  </tbody>\n",
       "</table>\n",
       "</div>"
      ],
      "text/plain": [
       "             User_ID       Movie_ID         Rating     Timestamp\n",
       "count  100003.000000  100003.000000  100003.000000  1.000030e+05\n",
       "mean      462.470876     425.520914       3.529864  8.835288e+08\n",
       "std       266.622454     330.797791       1.125704  5.343791e+06\n",
       "min         0.000000       1.000000       1.000000  8.747247e+08\n",
       "25%       254.000000     175.000000       3.000000  8.794487e+08\n",
       "50%       447.000000     322.000000       4.000000  8.828269e+08\n",
       "75%       682.000000     631.000000       4.000000  8.882600e+08\n",
       "max       943.000000    1682.000000       5.000000  8.932866e+08"
      ]
     },
     "execution_count": 14,
     "metadata": {},
     "output_type": "execute_result"
    }
   ],
   "source": [
    "movies_df.describe()"
   ]
  },
  {
   "cell_type": "code",
   "execution_count": 16,
   "id": "783e3267",
   "metadata": {},
   "outputs": [
    {
     "data": {
      "text/plain": [
       "User_ID\n",
       "0        3\n",
       "166     20\n",
       "418     20\n",
       "34      20\n",
       "441     20\n",
       "      ... \n",
       "276    518\n",
       "450    540\n",
       "13     636\n",
       "655    685\n",
       "405    737\n",
       "Name: Rating, Length: 944, dtype: int64"
      ]
     },
     "execution_count": 16,
     "metadata": {},
     "output_type": "execute_result"
    }
   ],
   "source": [
    "movies_df.groupby('User_ID')['Rating'].count().sort_values(ascending = True)"
   ]
  },
  {
   "cell_type": "code",
   "execution_count": 17,
   "id": "e5ce5fe6",
   "metadata": {},
   "outputs": [
    {
     "name": "stdout",
     "output_type": "stream",
     "text": [
      "944 users\n",
      "1682 movies\n"
     ]
    }
   ],
   "source": [
    "n_users = movies_df.User_ID.unique().shape[0]\n",
    "n_movies = movies_df.Movie_ID.unique().shape[0]\n",
    "print( str(n_users) + ' users')\n",
    "print( str(n_movies) + ' movies')"
   ]
  },
  {
   "cell_type": "code",
   "execution_count": 18,
   "id": "36970104",
   "metadata": {},
   "outputs": [
    {
     "name": "stdout",
     "output_type": "stream",
     "text": [
      "[[0. 0. 0. ... 0. 0. 0.]\n",
      " [5. 3. 4. ... 0. 0. 0.]\n",
      " [4. 0. 0. ... 0. 0. 0.]\n",
      " ...\n",
      " [5. 0. 0. ... 0. 0. 0.]\n",
      " [0. 0. 0. ... 0. 0. 0.]\n",
      " [0. 5. 0. ... 0. 0. 0.]]\n"
     ]
    }
   ],
   "source": [
    "#This would be a 2D array matrix to display user-movie_rating relationship\n",
    "#Rows represent users by IDs, columns represent movies by IDs\n",
    "ratings = np.zeros((n_users, n_movies))\n",
    "for row in movies_df.itertuples():\n",
    "    ratings[row[1], row[3]-1] = row[4]\n",
    "\n",
    "# View the matrix\n",
    "print(ratings)"
   ]
  },
  {
   "cell_type": "code",
   "execution_count": 19,
   "id": "8da0c9c6",
   "metadata": {},
   "outputs": [
    {
     "data": {
      "text/plain": [
       "(944, 1682)"
      ]
     },
     "execution_count": 19,
     "metadata": {},
     "output_type": "execute_result"
    }
   ],
   "source": [
    "ratings.shape"
   ]
  },
  {
   "cell_type": "code",
   "execution_count": 20,
   "id": "3fbb477f",
   "metadata": {},
   "outputs": [
    {
     "name": "stdout",
     "output_type": "stream",
     "text": [
      "6.298179628771237\n"
     ]
    }
   ],
   "source": [
    "# Explore the Interaction Matrix\n",
    "sparsity = float(len(ratings.nonzero()[0]))\n",
    "sparsity /= (ratings.shape[0] * ratings.shape[1])\n",
    "sparsity *= 100\n",
    "print(sparsity)"
   ]
  },
  {
   "cell_type": "code",
   "execution_count": 28,
   "id": "cf4e58f5",
   "metadata": {},
   "outputs": [
    {
     "data": {
      "text/plain": [
       "array([[1.        , 0.11988816, 0.11554032, ..., 0.        , 0.18180857,\n",
       "        0.11890394],\n",
       "       [0.11988816, 1.        , 0.16693098, ..., 0.14861694, 0.17950788,\n",
       "        0.39817474],\n",
       "       [0.11554032, 0.16693098, 1.        , ..., 0.16148478, 0.17226781,\n",
       "        0.10579788],\n",
       "       ...,\n",
       "       [0.        , 0.14861694, 0.16148478, ..., 1.        , 0.1016418 ,\n",
       "        0.09511958],\n",
       "       [0.18180857, 0.17950788, 0.17226781, ..., 0.1016418 , 1.        ,\n",
       "        0.18246466],\n",
       "       [0.11890394, 0.39817474, 0.10579788, ..., 0.09511958, 0.18246466,\n",
       "        1.        ]])"
      ]
     },
     "execution_count": 28,
     "metadata": {},
     "output_type": "execute_result"
    }
   ],
   "source": [
    "# Create a Similarity Matrix\n",
    "rating_cosine_similarity = cosine_similarity(ratings)\n",
    "rating_cosine_similarity"
   ]
  },
  {
   "cell_type": "code",
   "execution_count": 25,
   "id": "6c783fdf",
   "metadata": {},
   "outputs": [],
   "source": [
    "# Provide Recommendations\n",
    "def movie_recommender(user_item_m, X_user, user, k=10, top_n=10):\n",
    "    # Get the location of the actual user in the User-Items matrix\n",
    "    # Use it to index the User similarity matrix\n",
    "    user_similarities = X_user[user]\n",
    "    # obtain the indices of the top k most similar users\n",
    "    most_similar_users = user_item_m.index[user_similarities.argpartition(-k)[-k:]]\n",
    "    # Obtain the mean ratings of those users for all movies\n",
    "    rec_movies = user_item_m.loc[most_similar_users].mean(0).sort_values(ascending=False)\n",
    "    # Discard already seen movies\n",
    "    m_seen_movies = user_item_m.loc[user].gt(0)\n",
    "    seen_movies = m_seen_movies.index[m_seen_movies].tolist()\n",
    "    rec_movies = rec_movies.drop(seen_movies).head(top_n)\n",
    "    # return recommendations - top similar users rated movies\n",
    "    rec_movies_a=rec_movies.index.to_frame().reset_index(drop=True)\n",
    "    rec_movies_a.rename(columns={rec_movies_a.columns[0]: 'Movie_ID'}, inplace=True)\n",
    "    return rec_movies_a"
   ]
  },
  {
   "cell_type": "code",
   "execution_count": 26,
   "id": "81d032fa",
   "metadata": {},
   "outputs": [],
   "source": [
    "# View the Provided Recommendations\n",
    "#Converting the 2D array into a DataFrame as expected by the movie_recommender function\n",
    "ratings_df=pd.DataFrame(ratings)"
   ]
  },
  {
   "cell_type": "code",
   "execution_count": 27,
   "id": "249bcfa6",
   "metadata": {},
   "outputs": [
    {
     "data": {
      "text/html": [
       "<div>\n",
       "<style scoped>\n",
       "    .dataframe tbody tr th:only-of-type {\n",
       "        vertical-align: middle;\n",
       "    }\n",
       "\n",
       "    .dataframe tbody tr th {\n",
       "        vertical-align: top;\n",
       "    }\n",
       "\n",
       "    .dataframe thead th {\n",
       "        text-align: right;\n",
       "    }\n",
       "</style>\n",
       "<table border=\"1\" class=\"dataframe\">\n",
       "  <thead>\n",
       "    <tr style=\"text-align: right;\">\n",
       "      <th></th>\n",
       "      <th>Movie_Title</th>\n",
       "    </tr>\n",
       "  </thead>\n",
       "  <tbody>\n",
       "    <tr>\n",
       "      <th>0</th>\n",
       "      <td>180</td>\n",
       "    </tr>\n",
       "    <tr>\n",
       "      <th>1</th>\n",
       "      <td>209</td>\n",
       "    </tr>\n",
       "    <tr>\n",
       "      <th>2</th>\n",
       "      <td>495</td>\n",
       "    </tr>\n",
       "    <tr>\n",
       "      <th>3</th>\n",
       "      <td>422</td>\n",
       "    </tr>\n",
       "    <tr>\n",
       "      <th>4</th>\n",
       "      <td>172</td>\n",
       "    </tr>\n",
       "    <tr>\n",
       "      <th>5</th>\n",
       "      <td>384</td>\n",
       "    </tr>\n",
       "    <tr>\n",
       "      <th>6</th>\n",
       "      <td>78</td>\n",
       "    </tr>\n",
       "    <tr>\n",
       "      <th>7</th>\n",
       "      <td>567</td>\n",
       "    </tr>\n",
       "    <tr>\n",
       "      <th>8</th>\n",
       "      <td>565</td>\n",
       "    </tr>\n",
       "    <tr>\n",
       "      <th>9</th>\n",
       "      <td>21</td>\n",
       "    </tr>\n",
       "  </tbody>\n",
       "</table>\n",
       "</div>"
      ],
      "text/plain": [
       "   Movie_Title\n",
       "0          180\n",
       "1          209\n",
       "2          495\n",
       "3          422\n",
       "4          172\n",
       "5          384\n",
       "6           78\n",
       "7          567\n",
       "8          565\n",
       "9           21"
      ]
     },
     "execution_count": 27,
     "metadata": {},
     "output_type": "execute_result"
    }
   ],
   "source": [
    "user_ID=12\n",
    "movie_recommender(ratings_df, rating_cosine_similarity, user_ID)"
   ]
  },
  {
   "cell_type": "code",
   "execution_count": null,
   "id": "d2eace39",
   "metadata": {},
   "outputs": [],
   "source": [
    "def movie_recommender_run(user_Name):\n",
    "    #Get ID from Name\n",
    "    user_ID=movies_df.loc[movies_df['User_Names'] == user_Name].User_ID.values[0]\n",
    "    #Call the function\n",
    "    temp=movie_recommender(ratings_df, rating_cosine_similarity, user_ID)\n",
    "    # Join with the movie_title_df to get the movie titles\n",
    "    top_k_rec=temp.merge(movies_title_df, how='inner')\n",
    "    return top_k_rec"
   ]
  }
 ],
 "metadata": {
  "kernelspec": {
   "display_name": "Python 3 (ipykernel)",
   "language": "python",
   "name": "python3"
  },
  "language_info": {
   "codemirror_mode": {
    "name": "ipython",
    "version": 3
   },
   "file_extension": ".py",
   "mimetype": "text/x-python",
   "name": "python",
   "nbconvert_exporter": "python",
   "pygments_lexer": "ipython3",
   "version": "3.10.6"
  }
 },
 "nbformat": 4,
 "nbformat_minor": 5
}
